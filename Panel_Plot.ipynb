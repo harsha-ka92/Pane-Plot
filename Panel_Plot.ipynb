{
 "cells": [
  {
   "cell_type": "code",
   "execution_count": null,
   "id": "42760b43",
   "metadata": {},
   "outputs": [],
   "source": [
    "# prepare data and the plots\n",
    "# auto g_lt = new TGraphAsymmErrors(n, x, y, ex_lower, ex_upper, ey_lower, ey_upper); was used to get the plot shown in the README.md"
   ]
  },
  {
   "cell_type": "code",
   "execution_count": null,
   "id": "aa3e73d3",
   "metadata": {},
   "outputs": [],
   "source": [
    "# Create the canvas with desired number of pads\n",
    "auto c = new TCanvas(\"c\",\"c\",900,1300);\n",
    "\n",
    "c->Divide(nx,ny,0,0);\n",
    "\n",
    "gStyle->SetFrameFillStyle(0);\n",
    "gStyle->SetPadBorderMode(0);\n",
    "gStyle->SetPadBorderSize(0);\n",
    "gStyle->SetLineWidth(2);\n",
    "gStyle->SetPadColor(0);\n",
    "gStyle->SetCanvasBorderMode(0);\n",
    "gStyle->SetCanvasBorderSize(0);\n",
    "gStyle->SetCanvasColor(0);\n",
    "gStyle->SetOptStat(0);\n",
    "gPad->Modified();"
   ]
  },
  {
   "cell_type": "code",
   "execution_count": null,
   "id": "d7097a12",
   "metadata": {},
   "outputs": [],
   "source": [
    "#Jump to each pad and set the axis and the plot along with their attributes\n",
    "#g_lt,g_lt_pp are the plots used to fill this panel in the original script. You may change the names with your own ones.\n",
    "#repeat this step for all the pad numbers\n",
    "\n",
    "c->cd(//pad number);\n",
    "\n",
    "#pad attributes\n",
    "gPad->SetTickx(2);\n",
    "gPad->SetTicky(2);\n",
    "gPad->SetBottomMargin(0.20);\n",
    "gPad->SetLeftMargin(0.20);\n",
    "gPad->SetRightMargin(0);\n",
    "gPad->SetTopMargin(0);\n",
    "gPad->SetBorderSize(0);\n",
    "gPad->SetBorderMode(0);\n",
    "\n",
    "#set frame for the pad and plot the graphs\n",
    "TH1F *f_lt = c->DrawFrame(-0.1,-1.05,4.1,1.05);\n",
    "g_lt->Draw(\"P\");\n",
    "g_lt->SetMarkerStyle(24);\n",
    "g_lt->SetMarkerSize(1.4);\n",
    "g_lt_pp->Draw(\"P\");\n",
    "g_lt_pp->SetMarkerStyle(21);\n",
    "g_lt_pp->SetMarkerSize(1.4);\n",
    "f_lt->SetXTitle(\"P_{T}(GeV/c)\");\n",
    "f_lt->SetYTitle(\"2#nu - (1-#lambda)\");\n",
    "\n",
    "#generate X and Y axes and set their attributes\n",
    "  TAxis *xlt = new TAxis();\n",
    "  xlt=f_lt->GetXaxis();\n",
    "  xlt->SetTitleSize(.075);\n",
    "  xlt->SetLabelFont(2);\n",
    "  xlt->SetTitleFont(2);\n",
    "  xlt->SetLabelOffset(0.02);\n",
    "  xlt->SetTitleOffset(1.4);\n",
    "  xlt->SetTickSize(0.03);\n",
    "  xlt->CenterTitle();\n",
    "  xlt->SetLabelSize(.06);\n",
    "\n",
    "  TAxis *ylt = new TAxis();\n",
    "  ylt=f_lt->GetYaxis();\n",
    "  ylt->SetTitleSize(.075);\n",
    "  ylt->SetLabelFont(2);\n",
    "  ylt->SetTitleFont(2);\n",
    "  ylt->SetLabelOffset(0.02);\n",
    "  ylt->SetTitleOffset(0.8);\n",
    "  ylt->SetTickSize(0.015);\n",
    "  ylt->CenterTitle();\n",
    "  ylt->SetLabelSize(.06);\n",
    "  gPad->Modified();\n",
    "\n",
    "//     mlt= new TPolyMarker(5,pT,lt);\n",
    "//     mlt->SetMarkerStyle(21);\n",
    "//     mlt->Draw();\n",
    "\n",
    "//     mlt_pp = new TPolyMarker(5,pT,lt_pp);\n",
    "//     mlt_pp->SetMarkerStyle(4);\n",
    "//     mlt_pp->Draw();\n",
    "# To draw a line graph\n",
    "    llt = new TLine(0.0,0.0,4.0,0.0);\n",
    "    llt->SetLineStyle(7);\n",
    "    llt->Draw();"
   ]
  },
  {
   "cell_type": "code",
   "execution_count": null,
   "id": "0453df82",
   "metadata": {},
   "outputs": [],
   "source": [
    "#set the legend\n",
    "    auto leg = new TLegend(0.8,0.94,0.42,0.9);\n",
    "    leg->SetNColumns(2);\n",
    "    leg->AddEntry(g_lam_pp, \"#font[2]{p+p}\", \"P\");\n",
    "    leg->AddEntry(g_lam, \"#font[2]{p+d}\", \"P\");\n",
    "    leg->SetBorderSize(0);\n",
    "    leg-> SetFillColor(0);\n",
    "    leg->SetTextSize(0.07);\n",
    "    leg->Draw();"
   ]
  },
  {
   "cell_type": "code",
   "execution_count": null,
   "id": "a5e4c678",
   "metadata": {},
   "outputs": [],
   "source": [
    "#draw canvas\n",
    "\n",
    "c->Draw();"
   ]
  }
 ],
 "metadata": {
  "kernelspec": {
   "display_name": "ROOT C++",
   "language": "c++",
   "name": "root"
  },
  "language_info": {
   "codemirror_mode": "text/x-c++src",
   "file_extension": ".C",
   "mimetype": " text/x-c++src",
   "name": "c++"
  }
 },
 "nbformat": 4,
 "nbformat_minor": 5
}
